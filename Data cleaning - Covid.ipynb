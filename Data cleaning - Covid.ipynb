{
 "cells": [
  {
   "cell_type": "markdown",
   "id": "152a1557-4075-43aa-a8b2-6e57f2b5957e",
   "metadata": {},
   "source": [
    "# Estudo sobre a predição do tempo de hopitalização de pacientes com COVID-19 em 2021"
   ]
  },
  {
   "cell_type": "markdown",
   "id": "ba1c791c-5bb8-4461-9506-6763fde66f8a",
   "metadata": {},
   "source": [
    "Este notebook tem por finalidade a reprodução do [estudo](https://iris.paho.org/handle/10665.2/56251) realizado por SOUZA, Fernanda S. H. de et al."
   ]
  },
  {
   "cell_type": "markdown",
   "id": "1aa26416",
   "metadata": {},
   "source": [
    "Dicionário de dados: https://s3.sa-east-1.amazonaws.com/ckan.saude.gov.br/SRAG/pdfs/Dicionario_de_Dados_SRAG_Hospitalizado_19.09.2022.pdf"
   ]
  },
  {
   "cell_type": "markdown",
   "id": "68693566-818a-41b5-82c6-2b6016dbe33f",
   "metadata": {},
   "source": [
    "Este estudo transversal utilizou dados de pacientes hospitalizados com COVID-19 com idade ≥18 anos, esquema vacinal completo e diagnóstico positivo de infecção por SARS-CoV-2, coletados do banco de dados SIVEP-Gripe (Sistema de Informação da Vigilância Epidemiológica da Gripe) de 18 de janeiro a 15 de setembro de 2021."
   ]
  },
  {
   "cell_type": "markdown",
   "id": "02a1cf54-7d4f-42a9-bbe5-eafec6f49d9e",
   "metadata": {
    "jp-MarkdownHeadingCollapsed": true
   },
   "source": [
    "## Tabela de atributos úteis para o estudo"
   ]
  },
  {
   "cell_type": "markdown",
   "id": "0178ad19-48c0-4a2f-85a1-5e685c0412d1",
   "metadata": {
    "jp-MarkdownHeadingCollapsed": true,
    "tags": []
   },
   "source": [
    "|  Variável  |   Tipo   |           Descrição          |\n",
    "| :--------- | -------- | ---------------------------- |\n",
    "| DT_SIN_PRI |   Date   | Data de 1º sintomas do caso. |\n",
    "| SG_UF_NOT  | Varchar2 | Unidade Federativa onde está localizada a Unidade que realizou a notificação. |\n",
    "| CS_SEXO    | Varchar2 |      Sexo do paciente.       |\n",
    "| NU_IDADE_N | Varchar2 | Idade informada pelo paciente quando não se sabe a data de nascimento. |\n",
    "| TP_IDADE   | Varchar2 | Tipo/Idade considerando o intervalo entre a data de nascimento e a data dos primeiros sintomas |\n",
    "| CS_GESTANT | Varchar2 | Idade gestacional da paciente. |\n",
    "| CS_RACA    | Varchar2 |         Cor ou raça.         |\n",
    "| CS_ESCOL_N | Varchar2 | Nível de escolaridade do paciente. |\n",
    "| NOSOCOMIAL | Varchar2 | Caso de SRAG com infecção adquirida após internação. |\n",
    "|   FEBRE    | Varchar2 | Paciente apresentou febre? |\n",
    "|   TOSSE    | Varchar2 | Paciente apresentou tosse? |\n",
    "|  GARGANTA  | Varchar2 | Paciente apresentou dor de garganta? |\n",
    "|  DISPNEIA  | Varchar2 | Paciente apresentou dispneia? |\n",
    "| DESC_RESP  | Varchar2 | Paciente apresentou desconforto respiratório? |\n",
    "| SATURACAO  | Varchar2 | Paciente apresentou saturação O2< 95%? |\n",
    "|  DIARREIA  | Varchar2 | Paciente apresentou diarreia? |\n",
    "|   VOMITO   | Varchar2 | Paciente apresentou vômito? |\n",
    "|   DOR_ABD  | Varchar2 | Paciente apresentou dor abdominal? |\n",
    "|   FADIGA   | Varchar2 | Paciente apresentou fadiga? |\n",
    "| PERD_OLFT  | Varchar2 | Paciente apresentou perda do olfato? |\n",
    "| PERD_PALA  | Varchar2 | Paciente apresentou perda do paladar? |\n",
    "| OUTRO_SIN  | Varchar2 | Paciente apresentou outro(s) sintoma(s)? |\n",
    "|  PUERPERA  | Varchar2 | Paciente é puérpera ou parturiente (mulher que pariu recentemente – até 45 dias do parto)? |\n",
    "| CARDIOPATI | Varchar2 | Paciente possui Doença Cardiovascular Crônica? |\n",
    "| HEMATOLOGI | Varchar2 | Paciente possui Doença Hematológica Crônica? |\n",
    "| SIND_DOWN  | Varchar2 | Paciente possui Síndrome de Down? |\n",
    "|  HEPATICA  | Varchar2 | Paciente possui Doença Hepática Crônica? |\n",
    "|    ASMA    | Varchar2 | Paciente possui Asma? |\n",
    "|  DIABETES  | Varchar2 | Paciente possui Diabetes mellitus? |\n",
    "| NEUROLOGIC | Varchar2 | Paciente possui Doença Neurológica? |\n",
    "| PNEUMOPATI | Varchar2 | Paciente possui outra pneumopatia crônica? |\n",
    "| IMUNODEPRE | Varchar2 | Paciente possui Imunodeficiência ou Imunodepressão (diminuição da função do sistema imunológico)? |\n",
    "|   RENAL    | Varchar2 | Paciente possui Doença Renal Crônica? |\n",
    "| OBESIDADE  | Varchar2 | Paciente possui obesidade? |\n",
    "| OUT_MORBI  | Varchar2 | Paciente possui outro(s) fator(es) de risco? |\n",
    "| VACINA_COV | Varchar  | Informar se o paciente recebeu vacina COVID-19, após verificar a documentação / caderneta. |\n",
    "| DOSE_1_COV | Varchar  | Informar a data em que o paciente recebeu a 1ª dose da vacina COVID-19. |\n",
    "| DOSE_2_COV | Varchar  | Informar a data em que o paciente recebeu a 2ª dose da vacina COVID-19. |\n",
    "|  HOSPITAL  | Varchar2 | O paciente foi internado? |\n",
    "| DT_INTERNA |   Date   | Data em que o paciente foi hospitalizado. |\n",
    "|    UTI     | Varchar2 | O paciente foi internado em UTI? |\n",
    "| SUPORT_VEN | Varchar2 | O paciente fez uso de suporte ventilatório? |\n",
    "| RAIOX_RES  | Varchar2 | Informar resultado de Raio X de Tórax. |\n",
    "| CLASSI_FIN | Varchar2 | Diagnóstico final do caso. |\n",
    "|  EVOLUCAO  | Varchar2 | Evolução do caso. |\n",
    "| DT_EVOLUCA |   Date   | Data da alta ou óbito. |"
   ]
  },
  {
   "cell_type": "markdown",
   "id": "559ffeb3-d6e7-4c2d-9d6d-4516c079158c",
   "metadata": {
    "jp-MarkdownHeadingCollapsed": true
   },
   "source": [
    "## Importações e configurações"
   ]
  },
  {
   "cell_type": "code",
   "execution_count": 1,
   "id": "9210b1c8-fb7d-4ec9-a780-72c07036efb4",
   "metadata": {},
   "outputs": [],
   "source": [
    "import pandas as pd\n",
    "import numpy as np\n",
    "import matplotlib.pyplot as plt\n",
    "# import seaborn as sns"
   ]
  },
  {
   "cell_type": "code",
   "execution_count": 2,
   "id": "f0c7f990-c27d-40e7-a509-7a5efbbf0d28",
   "metadata": {},
   "outputs": [],
   "source": [
    "# A base de dados originalmente conta com dezenas de variáveis. Listá-las desta forma facilita tanto \n",
    "# a selecção quanto em futuras análistes separadas.\n",
    "SYMPTOMS = [\n",
    "    \"FEBRE\", \"TOSSE\", \"GARGANTA\", \n",
    "    \"DISPNEIA\", \"DESC_RESP\", \"SATURACAO\", \n",
    "    \"DIARREIA\", \"VOMITO\", \"DOR_ABD\", \n",
    "    \"FADIGA\", \"PERD_OLFT\", \"PERD_PALA\", \"OUTRO_SIN\"\n",
    "]\n",
    "\n",
    "COMORBIDITIES = [\n",
    "    \"PUERPERA\", \"CARDIOPATI\", \"HEMATOLOGI\", \n",
    "    \"SIND_DOWN\", \"HEPATICA\", \"ASMA\", \n",
    "    \"DIABETES\", \"NEUROLOGIC\", \"PNEUMOPATI\", \n",
    "    \"IMUNODEPRE\", \"RENAL\", \"OBESIDADE\", \"OUT_MORBI\"\n",
    "]\n",
    "\n",
    "DATES = [\n",
    "    \"DT_SIN_PRI\", \"DT_INTERNA\", \"DOSE_1_COV\",\n",
    "    \"DOSE_2_COV\", \"DT_EVOLUCA\"\n",
    "]\n",
    "\n",
    "DEMOGRAPHICS = [\n",
    "    \"CS_SEXO\", \"NU_IDADE_N\", \"TP_IDADE\", \n",
    "    \"CS_ESCOL_N\", \"CS_RACA\", \"SG_UF_NOT\"\n",
    "]\n",
    "\n",
    "HOSPITAL = [\n",
    "    \"CS_GESTANT\", \"NOSOCOMIAL\", \"VACINA_COV\",\n",
    "    \"HOSPITAL\", \"UTI\", \"SUPORT_VEN\",\n",
    "    \"RAIOX_RES\", \"CLASSI_FIN\", \"EVOLUCAO\",\n",
    "    \"PCR_SARS2\", \"AN_SARS2\", \"LAB_PR_COV\"\n",
    "]"
   ]
  },
  {
   "cell_type": "markdown",
   "id": "99caf855-e20f-4875-99c4-13cd4be8db6b",
   "metadata": {
    "jp-MarkdownHeadingCollapsed": true
   },
   "source": [
    "## Compreensão dos dados"
   ]
  },
  {
   "cell_type": "code",
   "execution_count": 3,
   "id": "38d7b9f6-851c-4afb-94ef-796e2dc96bc3",
   "metadata": {},
   "outputs": [],
   "source": [
    "df = pd.read_csv(\n",
    "    \"https://s3.sa-east-1.amazonaws.com/ckan.saude.gov.br/SRAG/2021/INFLUD21-10-04-2023.csv\",\n",
    "    # \"data/INFLUD21-10-04-2023.csv\",\n",
    "    sep=\";\",\n",
    "    encoding=\"ISO-8859-1\",\n",
    "    usecols=SYMPTOMS + COMORBIDITIES + DATES + DEMOGRAPHICS + HOSPITAL,\n",
    "    low_memory=False\n",
    ")"
   ]
  },
  {
   "cell_type": "code",
   "execution_count": 4,
   "id": "79d6feb1-c2c9-4101-8d21-d215d9f4cc25",
   "metadata": {},
   "outputs": [
    {
     "data": {
      "text/html": [
       "<div>\n",
       "<style scoped>\n",
       "    .dataframe tbody tr th:only-of-type {\n",
       "        vertical-align: middle;\n",
       "    }\n",
       "\n",
       "    .dataframe tbody tr th {\n",
       "        vertical-align: top;\n",
       "    }\n",
       "\n",
       "    .dataframe thead th {\n",
       "        text-align: right;\n",
       "    }\n",
       "</style>\n",
       "<table border=\"1\" class=\"dataframe\">\n",
       "  <thead>\n",
       "    <tr style=\"text-align: right;\">\n",
       "      <th></th>\n",
       "      <th>DT_SIN_PRI</th>\n",
       "      <th>SG_UF_NOT</th>\n",
       "      <th>CS_SEXO</th>\n",
       "      <th>NU_IDADE_N</th>\n",
       "      <th>TP_IDADE</th>\n",
       "      <th>CS_GESTANT</th>\n",
       "      <th>CS_RACA</th>\n",
       "      <th>CS_ESCOL_N</th>\n",
       "      <th>NOSOCOMIAL</th>\n",
       "      <th>FEBRE</th>\n",
       "      <th>...</th>\n",
       "      <th>PCR_SARS2</th>\n",
       "      <th>DOR_ABD</th>\n",
       "      <th>FADIGA</th>\n",
       "      <th>PERD_OLFT</th>\n",
       "      <th>PERD_PALA</th>\n",
       "      <th>AN_SARS2</th>\n",
       "      <th>VACINA_COV</th>\n",
       "      <th>DOSE_1_COV</th>\n",
       "      <th>DOSE_2_COV</th>\n",
       "      <th>LAB_PR_COV</th>\n",
       "    </tr>\n",
       "  </thead>\n",
       "  <tbody>\n",
       "    <tr>\n",
       "      <th>0</th>\n",
       "      <td>05/01/2021</td>\n",
       "      <td>BA</td>\n",
       "      <td>F</td>\n",
       "      <td>74</td>\n",
       "      <td>3</td>\n",
       "      <td>6</td>\n",
       "      <td>9</td>\n",
       "      <td>9.0</td>\n",
       "      <td>2.0</td>\n",
       "      <td>1.0</td>\n",
       "      <td>...</td>\n",
       "      <td>NaN</td>\n",
       "      <td>2.0</td>\n",
       "      <td>1.0</td>\n",
       "      <td>2.0</td>\n",
       "      <td>2.0</td>\n",
       "      <td>NaN</td>\n",
       "      <td>1.0</td>\n",
       "      <td>18/03/2021</td>\n",
       "      <td>15/04/2021</td>\n",
       "      <td>86 - COVID-19-CORONAVAC-SINOVAC/BUTANTAN</td>\n",
       "    </tr>\n",
       "    <tr>\n",
       "      <th>1</th>\n",
       "      <td>04/01/2021</td>\n",
       "      <td>MG</td>\n",
       "      <td>F</td>\n",
       "      <td>73</td>\n",
       "      <td>3</td>\n",
       "      <td>5</td>\n",
       "      <td>4</td>\n",
       "      <td>9.0</td>\n",
       "      <td>2.0</td>\n",
       "      <td>2.0</td>\n",
       "      <td>...</td>\n",
       "      <td>NaN</td>\n",
       "      <td>2.0</td>\n",
       "      <td>2.0</td>\n",
       "      <td>2.0</td>\n",
       "      <td>2.0</td>\n",
       "      <td>NaN</td>\n",
       "      <td>NaN</td>\n",
       "      <td>NaN</td>\n",
       "      <td>NaN</td>\n",
       "      <td>NaN</td>\n",
       "    </tr>\n",
       "    <tr>\n",
       "      <th>2</th>\n",
       "      <td>07/01/2021</td>\n",
       "      <td>SP</td>\n",
       "      <td>M</td>\n",
       "      <td>1</td>\n",
       "      <td>3</td>\n",
       "      <td>6</td>\n",
       "      <td>4</td>\n",
       "      <td>NaN</td>\n",
       "      <td>2.0</td>\n",
       "      <td>1.0</td>\n",
       "      <td>...</td>\n",
       "      <td>NaN</td>\n",
       "      <td>2.0</td>\n",
       "      <td>1.0</td>\n",
       "      <td>2.0</td>\n",
       "      <td>2.0</td>\n",
       "      <td>NaN</td>\n",
       "      <td>1.0</td>\n",
       "      <td>14/12/2022</td>\n",
       "      <td>NaN</td>\n",
       "      <td>86 - COVID-19 SINOVAC/BUTANTAN - CORONAVAC</td>\n",
       "    </tr>\n",
       "    <tr>\n",
       "      <th>3</th>\n",
       "      <td>03/01/2021</td>\n",
       "      <td>SP</td>\n",
       "      <td>M</td>\n",
       "      <td>37</td>\n",
       "      <td>3</td>\n",
       "      <td>6</td>\n",
       "      <td>1</td>\n",
       "      <td>9.0</td>\n",
       "      <td>2.0</td>\n",
       "      <td>1.0</td>\n",
       "      <td>...</td>\n",
       "      <td>1.0</td>\n",
       "      <td>NaN</td>\n",
       "      <td>NaN</td>\n",
       "      <td>NaN</td>\n",
       "      <td>NaN</td>\n",
       "      <td>NaN</td>\n",
       "      <td>NaN</td>\n",
       "      <td>NaN</td>\n",
       "      <td>NaN</td>\n",
       "      <td>NaN</td>\n",
       "    </tr>\n",
       "    <tr>\n",
       "      <th>4</th>\n",
       "      <td>06/01/2021</td>\n",
       "      <td>SP</td>\n",
       "      <td>M</td>\n",
       "      <td>54</td>\n",
       "      <td>3</td>\n",
       "      <td>6</td>\n",
       "      <td>1</td>\n",
       "      <td>3.0</td>\n",
       "      <td>2.0</td>\n",
       "      <td>1.0</td>\n",
       "      <td>...</td>\n",
       "      <td>NaN</td>\n",
       "      <td>2.0</td>\n",
       "      <td>2.0</td>\n",
       "      <td>2.0</td>\n",
       "      <td>2.0</td>\n",
       "      <td>1.0</td>\n",
       "      <td>2.0</td>\n",
       "      <td>NaN</td>\n",
       "      <td>NaN</td>\n",
       "      <td>NaN</td>\n",
       "    </tr>\n",
       "  </tbody>\n",
       "</table>\n",
       "<p>5 rows × 49 columns</p>\n",
       "</div>"
      ],
      "text/plain": [
       "   DT_SIN_PRI SG_UF_NOT CS_SEXO  NU_IDADE_N  TP_IDADE  CS_GESTANT  CS_RACA  \\\n",
       "0  05/01/2021        BA       F          74         3           6        9   \n",
       "1  04/01/2021        MG       F          73         3           5        4   \n",
       "2  07/01/2021        SP       M           1         3           6        4   \n",
       "3  03/01/2021        SP       M          37         3           6        1   \n",
       "4  06/01/2021        SP       M          54         3           6        1   \n",
       "\n",
       "   CS_ESCOL_N  NOSOCOMIAL  FEBRE  ...  PCR_SARS2  DOR_ABD  FADIGA  PERD_OLFT  \\\n",
       "0         9.0         2.0    1.0  ...        NaN      2.0     1.0        2.0   \n",
       "1         9.0         2.0    2.0  ...        NaN      2.0     2.0        2.0   \n",
       "2         NaN         2.0    1.0  ...        NaN      2.0     1.0        2.0   \n",
       "3         9.0         2.0    1.0  ...        1.0      NaN     NaN        NaN   \n",
       "4         3.0         2.0    1.0  ...        NaN      2.0     2.0        2.0   \n",
       "\n",
       "   PERD_PALA  AN_SARS2  VACINA_COV  DOSE_1_COV  DOSE_2_COV  \\\n",
       "0        2.0       NaN         1.0  18/03/2021  15/04/2021   \n",
       "1        2.0       NaN         NaN         NaN         NaN   \n",
       "2        2.0       NaN         1.0  14/12/2022         NaN   \n",
       "3        NaN       NaN         NaN         NaN         NaN   \n",
       "4        2.0       1.0         2.0         NaN         NaN   \n",
       "\n",
       "                                   LAB_PR_COV  \n",
       "0    86 - COVID-19-CORONAVAC-SINOVAC/BUTANTAN  \n",
       "1                                         NaN  \n",
       "2  86 - COVID-19 SINOVAC/BUTANTAN - CORONAVAC  \n",
       "3                                         NaN  \n",
       "4                                         NaN  \n",
       "\n",
       "[5 rows x 49 columns]"
      ]
     },
     "execution_count": 4,
     "metadata": {},
     "output_type": "execute_result"
    }
   ],
   "source": [
    "df.head()"
   ]
  },
  {
   "cell_type": "code",
   "execution_count": 5,
   "id": "fbb854f6-10f7-4bc7-886a-1dfe7b4daeb8",
   "metadata": {},
   "outputs": [
    {
     "name": "stdout",
     "output_type": "stream",
     "text": [
      "Tamanho do dataset: (1732198, 49)\n"
     ]
    }
   ],
   "source": [
    "print(f\"Tamanho do dataset: {df.shape}\")"
   ]
  },
  {
   "cell_type": "markdown",
   "id": "a76c2f51-43a5-4bce-9567-8040e5730e73",
   "metadata": {},
   "source": [
    "## Tratamentos dos dados"
   ]
  },
  {
   "cell_type": "markdown",
   "id": "f56df1a9-ca37-4d73-8b16-24efe5eab580",
   "metadata": {},
   "source": [
    " Conversão das datas para DateTime no formato __dd/mm/YYYY__\n",
    " \n",
    " O parâmetro ``errors=\"coerce\"`` nos permite tratar como valor ausente as datas que não \n",
    "foram corretamente convertidas."
   ]
  },
  {
   "cell_type": "code",
   "execution_count": 6,
   "id": "f75f408f-4b5e-41da-83e9-abd7f54f6794",
   "metadata": {},
   "outputs": [],
   "source": [
    "for att_date in DATES:\n",
    "    df[att_date] = pd.to_datetime(df[att_date], format='%d/%m/%Y', errors='coerce')"
   ]
  },
  {
   "cell_type": "markdown",
   "id": "ba91a50f-b306-44f6-be06-b341bf983efe",
   "metadata": {},
   "source": [
    "O primeiro corte para análise é quanto ao tempo. Serão aceitos somente os pacientes admitidos entre 18 de janeiro a 15 de setembro de 2021"
   ]
  },
  {
   "cell_type": "code",
   "execution_count": 7,
   "id": "f00edf3f-b8f8-4ba1-bd7a-f52e1337696b",
   "metadata": {},
   "outputs": [],
   "source": [
    "df = df.loc[ (df.DT_INTERNA > \"18/01/2021\") & (df.DT_INTERNA < \"15/09/2021\") ]"
   ]
  },
  {
   "cell_type": "code",
   "execution_count": 8,
   "id": "f520e4ff-7ee4-4915-b4d4-1015a907640d",
   "metadata": {},
   "outputs": [
    {
     "name": "stdout",
     "output_type": "stream",
     "text": [
      "Tamanho do dataset: (1385038, 49)\n"
     ]
    }
   ],
   "source": [
    "print(f\"Tamanho do dataset: {df.shape}\")"
   ]
  },
  {
   "cell_type": "markdown",
   "id": "973545b1-a02c-4d55-a9ac-1608861a4655",
   "metadata": {},
   "source": [
    "A idade dos pacientes é informada pela combinação das variáveis ``NU_IDADE_N`` e ``TP_IDADE``.\n",
    "\n",
    "No caso de pacientes abaixo de 1 ano de idade, o TP_IDADE poderá ser 1 ou 2, sendo atribuído o valor na variável NU_IDADE_N em dias (caso TP_IDADE = 1) ou meses (caso TP_IDADE = 2).\n",
    "\n",
    "Entretanto, como o subgrupo a ser trabalhado é de pacientes maiores de 18 anos, só serão admitidos valores ``TP_IDADE = 3``."
   ]
  },
  {
   "cell_type": "code",
   "execution_count": 9,
   "id": "646892ef-2d72-4e8d-be11-c23aa0410150",
   "metadata": {},
   "outputs": [
    {
     "data": {
      "text/plain": [
       "TP_IDADE\n",
       "3    1351845\n",
       "2      28571\n",
       "1       4622\n",
       "Name: count, dtype: int64"
      ]
     },
     "execution_count": 9,
     "metadata": {},
     "output_type": "execute_result"
    }
   ],
   "source": [
    "df.TP_IDADE.value_counts()"
   ]
  },
  {
   "cell_type": "code",
   "execution_count": 10,
   "id": "0f36177f-0145-4163-98a2-32fe5c9aaa84",
   "metadata": {},
   "outputs": [],
   "source": [
    "legal_age_filter = (df.TP_IDADE == 3) & (df.NU_IDADE_N >= 18)\n",
    "df = df.loc[ legal_age_filter ]"
   ]
  },
  {
   "cell_type": "code",
   "execution_count": 11,
   "id": "d5e543b4-54b8-46ab-9037-ed2644f8fe27",
   "metadata": {},
   "outputs": [
    {
     "name": "stdout",
     "output_type": "stream",
     "text": [
      "Tamanho do dataset: (1291139, 49)\n"
     ]
    }
   ],
   "source": [
    "print(f\"Tamanho do dataset: {df.shape}\")"
   ]
  },
  {
   "cell_type": "markdown",
   "id": "08c0c59a-ae1a-4e73-bb4b-d70e25e981e7",
   "metadata": {},
   "source": [
    "As próximas filtragens foram de pacientes hospitalizados, diagnóstico positivo de infecção por SARS-CoV-2, informações sobre o sexo biológico do paciente não ausentes,"
   ]
  },
  {
   "cell_type": "code",
   "execution_count": 12,
   "id": "f40a34d7-c334-4fb8-8fb9-0f2a0ec363ba",
   "metadata": {},
   "outputs": [],
   "source": [
    "filtering  = (df.HOSPITAL == 1) & (df.CLASSI_FIN == 5) & (df.CS_SEXO.isin([\"M\", \"F\"]))\n",
    "filtering &= ((df.PCR_SARS2 == 1) | (df.AN_SARS2 == 1))\n",
    "df = df.loc[ filtering ]"
   ]
  },
  {
   "cell_type": "code",
   "execution_count": 13,
   "id": "cf589f42-0360-485c-bffa-bd6a04f908cb",
   "metadata": {},
   "outputs": [
    {
     "name": "stdout",
     "output_type": "stream",
     "text": [
      "Tamanho do dataset: (791828, 49)\n"
     ]
    }
   ],
   "source": [
    "print(f\"Tamanho do dataset: {df.shape}\")"
   ]
  },
  {
   "cell_type": "markdown",
   "id": "3c50f5fe-0634-4303-9a58-1a6755a3dda6",
   "metadata": {},
   "source": [
    "### Exclusão de duplicatas\n",
    "Pela incapacidade de identificar unicamente cada paciente dentro do dataset, será aplicado uma remoção simples de dados duplicados."
   ]
  },
  {
   "cell_type": "code",
   "execution_count": 14,
   "id": "bf03b2e9-a95d-4613-beb5-6459104756de",
   "metadata": {},
   "outputs": [],
   "source": [
    "df.drop_duplicates(inplace=True)"
   ]
  },
  {
   "cell_type": "code",
   "execution_count": 15,
   "id": "e89c4dbf-86ba-4d37-b436-7ebf9d2b50aa",
   "metadata": {},
   "outputs": [
    {
     "name": "stdout",
     "output_type": "stream",
     "text": [
      "Tamanho do dataset: (791822, 49)\n"
     ]
    }
   ],
   "source": [
    "print(f\"Tamanho do dataset: {df.shape}\")"
   ]
  },
  {
   "cell_type": "markdown",
   "id": "10a115d0-9d15-45cf-bc72-a00f2dfea898",
   "metadata": {},
   "source": [
    "### Verificação e limpeza de dados ausentes\n",
    "Existir dados ausentes nas informações sobre sintomas ou comorbidade não é um problema por si só. Esses dados serão tratados como a falta de determinada característica. "
   ]
  },
  {
   "cell_type": "code",
   "execution_count": 16,
   "id": "b1c7b3b7-42ec-430b-af6b-03228c38e4b9",
   "metadata": {},
   "outputs": [
    {
     "data": {
      "text/plain": [
       "DT_SIN_PRI         0\n",
       "DT_INTERNA         0\n",
       "DOSE_1_COV    644176\n",
       "DOSE_2_COV    711670\n",
       "DT_EVOLUCA     59311\n",
       "CS_SEXO            0\n",
       "NU_IDADE_N         0\n",
       "TP_IDADE           0\n",
       "CS_ESCOL_N    255410\n",
       "CS_RACA            0\n",
       "SG_UF_NOT          0\n",
       "CS_GESTANT         0\n",
       "NOSOCOMIAL    104810\n",
       "VACINA_COV    188555\n",
       "HOSPITAL           0\n",
       "UTI            49588\n",
       "SUPORT_VEN     59252\n",
       "RAIOX_RES     311757\n",
       "CLASSI_FIN         0\n",
       "EVOLUCAO       30421\n",
       "PCR_SARS2     181043\n",
       "AN_SARS2      588085\n",
       "LAB_PR_COV    644286\n",
       "dtype: int64"
      ]
     },
     "execution_count": 16,
     "metadata": {},
     "output_type": "execute_result"
    }
   ],
   "source": [
    "df[ DATES + DEMOGRAPHICS + HOSPITAL ].isna().sum()"
   ]
  },
  {
   "cell_type": "markdown",
   "id": "94ca89fd-e9ea-473b-b659-7e50dcbcec6c",
   "metadata": {},
   "source": [
    "### Exclusão de atributos redundantes ou desnecessários.\n",
    "\n",
    "Nesta etapa do processo de limpeza, alguns atributos já serviram seu propósito, tais como ``TP_IDADE``, ``PCR_SARS2``, ``AN_SARS2``, etc.\n",
    "\n",
    "Para evitar processamento de dados desnecessários, essas variáveis serão excluídas do dataframe."
   ]
  },
  {
   "cell_type": "code",
   "execution_count": 17,
   "id": "609c0e26-ff81-430e-9baa-9e7e2056692e",
   "metadata": {},
   "outputs": [],
   "source": [
    "df.drop(columns=[\n",
    "    \"PCR_SARS2\", \n",
    "    \"AN_SARS2\",\n",
    "    \"TP_IDADE\",\n",
    "    \"CLASSI_FIN\",\n",
    "], inplace=True)"
   ]
  },
  {
   "cell_type": "code",
   "execution_count": 18,
   "id": "37eca101-72db-483b-918f-9c11ff1b5537",
   "metadata": {},
   "outputs": [
    {
     "name": "stdout",
     "output_type": "stream",
     "text": [
      "Tamanho do dataset: (791822, 45)\n"
     ]
    }
   ],
   "source": [
    "print(f\"Tamanho do dataset: {df.shape}\")"
   ]
  },
  {
   "cell_type": "markdown",
   "id": "5738f9b0-775b-4ea9-926d-fc4747943864",
   "metadata": {},
   "source": [
    "### Transformação das variáveis\n",
    "O dataset contém valores para presença (1), ausência (2) e não preenchimento (9) das variáveis de sintomas, comorbidades entre outras. A fim de facilitar o entendimento, esses dados serão transformados para o tipo ``bool`` e a ausência de preenchimento será tratada como __False__."
   ]
  },
  {
   "cell_type": "code",
   "execution_count": 19,
   "id": "36e89f5f-b151-4885-b5b9-23b6c54d9cc4",
   "metadata": {},
   "outputs": [],
   "source": [
    "# Conversão de sintomas e comorbidades em bool\n",
    "for variable in SYMPTOMS + COMORBIDITIES + [\"NOSOCOMIAL\"]:\n",
    "    df[variable] = df[variable].map(lambda x: x == 1).astype(bool)"
   ]
  },
  {
   "cell_type": "code",
   "execution_count": 20,
   "id": "e77751cb-f093-4496-aec4-81800ea3e39d",
   "metadata": {},
   "outputs": [
    {
     "data": {
      "text/plain": [
       "(3218, 45)"
      ]
     },
     "execution_count": 20,
     "metadata": {},
     "output_type": "execute_result"
    }
   ],
   "source": [
    "# Verificação de inconsistências nas datas de vacinação\n",
    "filtering  = (df.DOSE_1_COV >= df.DOSE_2_COV) # 2ª vacinação antes da 1ª\n",
    "filtering |= ((df.DOSE_1_COV.isna()) & (df.DOSE_2_COV.notna())) # 2ª vacinação sem a 1ª\n",
    "df[ filtering ].shape"
   ]
  },
  {
   "cell_type": "markdown",
   "id": "9b6cbc38-d07f-4bed-97b1-fedf85a4102e",
   "metadata": {},
   "source": [
    "Existem 3218 registros de pessoas com inconsistências nas datas de vacinação, seja pela data da 2ª dose ser antes do que a da primeira ou a data da 1ª ser inexistente, mesmo havendo sido tomado 2 doses.\n",
    "\n",
    "A ocorrência do primeiro caso (data da 2ª vacinação > 1ª vacinação) é, de fato, um problema de informação. É possível inferir que houve duas vacinações porém, a falta de confiança no processo de registro impede uma futura padronização do status de vacinação.\n",
    "\n",
    "Desta forma, quaisquer dados com os problemas citados serão removido."
   ]
  },
  {
   "cell_type": "code",
   "execution_count": 21,
   "id": "22d913b1-5093-44cc-aae5-c9b268fd784d",
   "metadata": {},
   "outputs": [],
   "source": [
    "df = df[ ~filtering ]"
   ]
  },
  {
   "cell_type": "code",
   "execution_count": 22,
   "id": "d3e454de-7ef7-4cab-9d63-c429945fc5bf",
   "metadata": {},
   "outputs": [
    {
     "name": "stdout",
     "output_type": "stream",
     "text": [
      "Tamanho do dataset: (788604, 45)\n"
     ]
    }
   ],
   "source": [
    "print(f\"Tamanho do dataset: {df.shape}\")"
   ]
  },
  {
   "cell_type": "markdown",
   "id": "8510079b-5d2c-4813-a2b6-8cb9383c0a87",
   "metadata": {},
   "source": [
    "- Transformações dos nomes das vacinas"
   ]
  },
  {
   "cell_type": "code",
   "execution_count": 23,
   "id": "ebcbb791-2136-4366-b372-17cd8b1c764c",
   "metadata": {},
   "outputs": [
    {
     "data": {
      "text/plain": [
       "3279"
      ]
     },
     "execution_count": 23,
     "metadata": {},
     "output_type": "execute_result"
    }
   ],
   "source": [
    "df.LAB_PR_COV.nunique()"
   ]
  },
  {
   "cell_type": "markdown",
   "id": "c18c8033-643d-45bd-92bd-c141bcf1aa85",
   "metadata": {},
   "source": [
    "As vacinas presentes nesse período no Brasil eram Coronavac, Oxford, Pfizer e Janssen. Porém, há 3279 diferentes tipos de entradas nesse campo, o que indica uma alta taxa de dados incorretos e uma falta de padronização.\n",
    "\n",
    "Esta etapa é, sem dúvidas, a mais trabalhosa neste projeto. A abordagem a ser adotada será a separação por casamento exato de caracteres."
   ]
  },
  {
   "cell_type": "markdown",
   "id": "9d4ef1a9-0f46-4406-9a1f-66f6c88ca452",
   "metadata": {},
   "source": [
    "* Nomes oficiais e populares das vacinas\n",
    "\n",
    "Nome oficial | Nome popular |\n",
    "-------------|--------------|\n",
    "Coronavac    | Sinovac, Butantan |\n",
    "Oxford       | Fiocruz, Astrazeneca, Covishield, Biomanguinho, Oswaldo Cruz |\n",
    "Pfizer       | Comirnaty, Biontech, |\n",
    "Janssen      | Johnson & Johnson |\n"
   ]
  },
  {
   "cell_type": "code",
   "execution_count": 45,
   "id": "f79ef1f6-8d58-4bf6-bc4c-1215e28bcc9c",
   "metadata": {},
   "outputs": [],
   "source": [
    "# Pfizer\n",
    "df.loc[ df.LAB_PR_COV.str.contains('PF|ZER|FER|SER|COMIN|ATY|BIO|TECH|PZI|PZHIER', case=False, regex=True, na=False), \"LAB_PR_COV\"] =  \"Pfizer\""
   ]
  },
  {
   "cell_type": "code",
   "execution_count": 46,
   "id": "885d4e55-654c-4a77-8aa1-108a61298165",
   "metadata": {},
   "outputs": [],
   "source": [
    "# Janssen\n",
    "df.loc[ df.LAB_PR_COV.str.contains('JAN|JOHNSON|SEN|JOH|SON', case=False, regex=True, na=False), \"LAB_PR_COV\"] = \"Janssen\""
   ]
  },
  {
   "cell_type": "code",
   "execution_count": 53,
   "id": "e863b5da-1381-4046-be19-f7186e4a84ea",
   "metadata": {},
   "outputs": [],
   "source": [
    "# Coronavac\n",
    "df.loc[ df.LAB_PR_COV.str.contains('CORO|VAC|CORANAC|SINO|SIVONAC|INSTITUTO|BUT|BUNT|NTAN|IB|I.B|BTT', case=False, regex=True, na=False), \"LAB_PR_COV\"] = \"Coronavac\""
   ]
  },
  {
   "cell_type": "code",
   "execution_count": 64,
   "id": "f8488dd5-7f45-44e8-b1eb-deba9a32fd4e",
   "metadata": {},
   "outputs": [],
   "source": [
    "# Oxford\n",
    "df.loc[ df.LAB_PR_COV.str.contains('OXF|OSW|ORD|FIO|CRUZ|FC|AST|AZTRA|COVIS|ELD|SHILD|SHIEL|GUINHO|NECA|NICA|ZENCA|ADOX|VCD|VCD1', case=False, regex=True, na=False), \"LAB_PR_COV\"] = \"Oxford\""
   ]
  },
  {
   "cell_type": "code",
   "execution_count": 61,
   "id": "eae9bea4-8c85-4e49-a53f-15815335d76a",
   "metadata": {},
   "outputs": [],
   "source": [
    "# Nenhuma vacina informada\n",
    "df.loc[ df.LAB_PR_COV.str.contains('NAO|SEM|TOMOU|DOSE|INVESTIGAR|SAUDE|/2021|/21|IMUNIZADO|SPUTINIK|DADOS|INFOR|COVAX|SARS CORV-2|LABORATORIO|-|/', case=False, regex=True, na=False), \"LAB_PR_COV\"] = \"\""
   ]
  },
  {
   "cell_type": "code",
   "execution_count": 70,
   "id": "a33c6d0d-cd72-41d1-9718-e02b5e9db011",
   "metadata": {},
   "outputs": [],
   "source": [
    "# Remoção das demais entradas que não condizem com nomes de vacinas\n",
    "df[\"LAB_PR_COV\"] = np.where(\n",
    "    df.LAB_PR_COV == \"Pfizer\",\n",
    "    \"Pfizer\",\n",
    "    np.where(\n",
    "        df.LAB_PR_COV == \"Janssen\",\n",
    "        \"Janssen\",\n",
    "        np.where(\n",
    "            df.LAB_PR_COV == \"Coronavac\",\n",
    "            \"Coronavac\",\n",
    "            np.where(\n",
    "                df.LAB_PR_COV == \"Oxford\",\n",
    "                \"Oxford\",\n",
    "                \"Missing\"\n",
    "            )\n",
    "        )\n",
    "    )\n",
    ")"
   ]
  },
  {
   "cell_type": "code",
   "execution_count": 71,
   "id": "a3e11c51-c758-417b-86e8-9e5e70a89f09",
   "metadata": {},
   "outputs": [
    {
     "data": {
      "text/plain": [
       "LAB_PR_COV\n",
       "Missing      644046\n",
       "Coronavac     69504\n",
       "Oxford        59760\n",
       "Pfizer        13389\n",
       "Janssen        1905\n",
       "Name: count, dtype: int64"
      ]
     },
     "execution_count": 71,
     "metadata": {},
     "output_type": "execute_result"
    }
   ],
   "source": [
    "df.LAB_PR_COV.value_counts()"
   ]
  },
  {
   "cell_type": "markdown",
   "id": "4b0c0a2e-9a9f-4caa-895d-4b72d1d4f21e",
   "metadata": {},
   "source": [
    "### Classificação do status de vacinação"
   ]
  },
  {
   "cell_type": "code",
   "execution_count": null,
   "id": "5fd7e1a9-1568-4fdc-8457-b1dc7e1ac87a",
   "metadata": {},
   "outputs": [],
   "source": []
  }
 ],
 "metadata": {
  "kernelspec": {
   "display_name": "Python 3 (ipykernel)",
   "language": "python",
   "name": "python3"
  },
  "language_info": {
   "codemirror_mode": {
    "name": "ipython",
    "version": 3
   },
   "file_extension": ".py",
   "mimetype": "text/x-python",
   "name": "python",
   "nbconvert_exporter": "python",
   "pygments_lexer": "ipython3",
   "version": "3.11.0"
  }
 },
 "nbformat": 4,
 "nbformat_minor": 5
}
